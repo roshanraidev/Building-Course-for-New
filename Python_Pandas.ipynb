{
 "cells": [
  {
   "cell_type": "markdown",
   "id": "a21f5e6f-f495-42b3-b03b-9ac6e4e690a4",
   "metadata": {},
   "source": [
    "Learning pandas"
   ]
  },
  {
   "cell_type": "code",
   "execution_count": 17,
   "id": "736e1524-e1c1-4f28-9471-e0e986317d5d",
   "metadata": {},
   "outputs": [],
   "source": [
    "#Series\n",
    "import numpy as np\n",
    "import pandas as pd\n",
    "from pandas import Series, DataFrame"
   ]
  },
  {
   "cell_type": "code",
   "execution_count": 18,
   "id": "4452018f-da0e-4b47-b75a-32a0dbdda79d",
   "metadata": {},
   "outputs": [],
   "source": [
    "#Create series\n",
    "obj = Series([3,6,9,12])"
   ]
  },
  {
   "cell_type": "code",
   "execution_count": 19,
   "id": "4c9f87e2-7abe-4f2c-a6b4-0993784e901d",
   "metadata": {},
   "outputs": [
    {
     "data": {
      "text/plain": [
       "0     3\n",
       "1     6\n",
       "2     9\n",
       "3    12\n",
       "dtype: int64"
      ]
     },
     "execution_count": 19,
     "metadata": {},
     "output_type": "execute_result"
    }
   ],
   "source": [
    "obj"
   ]
  },
  {
   "cell_type": "code",
   "execution_count": 20,
   "id": "71a80aee-073d-436f-b1e5-b9556292acfe",
   "metadata": {},
   "outputs": [
    {
     "data": {
      "text/plain": [
       "array([ 3,  6,  9, 12])"
      ]
     },
     "execution_count": 20,
     "metadata": {},
     "output_type": "execute_result"
    }
   ],
   "source": [
    "obj.values"
   ]
  },
  {
   "cell_type": "code",
   "execution_count": 21,
   "id": "5cc45aa5-298b-4dab-80f3-ff732ecc3d17",
   "metadata": {},
   "outputs": [
    {
     "data": {
      "text/plain": [
       "RangeIndex(start=0, stop=4, step=1)"
      ]
     },
     "execution_count": 21,
     "metadata": {},
     "output_type": "execute_result"
    }
   ],
   "source": [
    "obj.index"
   ]
  },
  {
   "cell_type": "code",
   "execution_count": 22,
   "id": "134b29a4-f5c7-424a-9a16-95839f53d33a",
   "metadata": {},
   "outputs": [],
   "source": [
    "ww2_cas = Series([87000000,4300000,3000000,21000000,400000],index=['ussr','nepal','uk','usa','japan'])"
   ]
  },
  {
   "cell_type": "code",
   "execution_count": 23,
   "id": "e55d1e0d-db9c-4edc-b9d7-ee79c44f9092",
   "metadata": {},
   "outputs": [
    {
     "data": {
      "text/plain": [
       "ussr     87000000\n",
       "nepal     4300000\n",
       "uk        3000000\n",
       "usa      21000000\n",
       "japan      400000\n",
       "dtype: int64"
      ]
     },
     "execution_count": 23,
     "metadata": {},
     "output_type": "execute_result"
    }
   ],
   "source": [
    "ww2_cas"
   ]
  },
  {
   "cell_type": "code",
   "execution_count": 30,
   "id": "36b7e0cb-4fff-46d6-9e8e-3b22be73b0d4",
   "metadata": {},
   "outputs": [
    {
     "data": {
      "text/plain": [
       "array([87000000,  4300000,  3000000, 21000000,   400000])"
      ]
     },
     "execution_count": 30,
     "metadata": {},
     "output_type": "execute_result"
    }
   ],
   "source": [
    "ww2_cas.values"
   ]
  },
  {
   "cell_type": "code",
   "execution_count": 31,
   "id": "dcef15e6-664a-493b-83be-52976b52a4d3",
   "metadata": {},
   "outputs": [
    {
     "data": {
      "text/plain": [
       "Index(['ussr', 'nepal', 'uk', 'usa', 'japan'], dtype='object')"
      ]
     },
     "execution_count": 31,
     "metadata": {},
     "output_type": "execute_result"
    }
   ],
   "source": [
    "ww2_cas.index"
   ]
  },
  {
   "cell_type": "code",
   "execution_count": 32,
   "id": "a42878ca-1ef3-4c2d-95d1-9e67b479758b",
   "metadata": {},
   "outputs": [
    {
     "data": {
      "text/plain": [
       "21000000"
      ]
     },
     "execution_count": 32,
     "metadata": {},
     "output_type": "execute_result"
    }
   ],
   "source": [
    "ww2_cas['usa']"
   ]
  },
  {
   "cell_type": "code",
   "execution_count": 37,
   "id": "023613d8-1c1c-4917-aa67-4c934a588248",
   "metadata": {},
   "outputs": [
    {
     "data": {
      "text/plain": [
       "21000000"
      ]
     },
     "execution_count": 37,
     "metadata": {},
     "output_type": "execute_result"
    }
   ],
   "source": [
    "ww2_cas['usa']"
   ]
  },
  {
   "cell_type": "code",
   "execution_count": 39,
   "id": "0f13c9df-3058-438f-8aaf-218db95620b4",
   "metadata": {},
   "outputs": [
    {
     "data": {
      "text/plain": [
       "ussr     87000000\n",
       "nepal     4300000\n",
       "usa      21000000\n",
       "dtype: int64"
      ]
     },
     "execution_count": 39,
     "metadata": {},
     "output_type": "execute_result"
    }
   ],
   "source": [
    "#check which countries had cas greater than 4 million\n",
    "ww2_cas[ww2_cas >4000000]"
   ]
  },
  {
   "cell_type": "code",
   "execution_count": 40,
   "id": "473b2acf-1247-48bb-9092-548da6fa043e",
   "metadata": {},
   "outputs": [
    {
     "data": {
      "text/plain": [
       "True"
      ]
     },
     "execution_count": 40,
     "metadata": {},
     "output_type": "execute_result"
    }
   ],
   "source": [
    "'ussr' in ww2_cas"
   ]
  },
  {
   "cell_type": "code",
   "execution_count": 41,
   "id": "0f1c54c2-4a32-4b79-8996-429322745de6",
   "metadata": {},
   "outputs": [
    {
     "data": {
      "text/plain": [
       "{'ussr': 87000000,\n",
       " 'nepal': 4300000,\n",
       " 'uk': 3000000,\n",
       " 'usa': 21000000,\n",
       " 'japan': 400000}"
      ]
     },
     "execution_count": 41,
     "metadata": {},
     "output_type": "execute_result"
    }
   ],
   "source": [
    "#converting series into dictionary\n",
    "ww2_dict = ww2_cas.to_dict()\n",
    "ww2_dict"
   ]
  },
  {
   "cell_type": "code",
   "execution_count": 42,
   "id": "384fe427-24af-48ad-97b8-cddc1721b5f1",
   "metadata": {},
   "outputs": [
    {
     "data": {
      "text/plain": [
       "ussr     87000000\n",
       "nepal     4300000\n",
       "uk        3000000\n",
       "usa      21000000\n",
       "japan      400000\n",
       "dtype: int64"
      ]
     },
     "execution_count": 42,
     "metadata": {},
     "output_type": "execute_result"
    }
   ],
   "source": [
    "#converting dictionary into series\n",
    "ww2_series = Series(ww2_dict)\n",
    "ww2_series"
   ]
  },
  {
   "cell_type": "code",
   "execution_count": 43,
   "id": "28eee498-396c-4851-9a32-ef08e5197acc",
   "metadata": {},
   "outputs": [],
   "source": [
    "countries = ['china','japan','india','uk','usa','france']"
   ]
  },
  {
   "cell_type": "code",
   "execution_count": 44,
   "id": "c1dce4f5-52c0-4f03-a109-d7f176c29426",
   "metadata": {},
   "outputs": [
    {
     "data": {
      "text/plain": [
       "['china', 'japan', 'india', 'uk', 'usa', 'france']"
      ]
     },
     "execution_count": 44,
     "metadata": {},
     "output_type": "execute_result"
    }
   ],
   "source": [
    "countries"
   ]
  },
  {
   "cell_type": "code",
   "execution_count": 45,
   "id": "9c290436-fd6b-471b-b010-4a4ac1643f3e",
   "metadata": {},
   "outputs": [
    {
     "data": {
      "text/plain": [
       "china            NaN\n",
       "japan       400000.0\n",
       "india            NaN\n",
       "uk         3000000.0\n",
       "usa       21000000.0\n",
       "france           NaN\n",
       "dtype: float64"
      ]
     },
     "execution_count": 45,
     "metadata": {},
     "output_type": "execute_result"
    }
   ],
   "source": [
    "obj2 = Series(ww2_dict, index = countries)\n",
    "obj2"
   ]
  },
  {
   "cell_type": "code",
   "execution_count": 46,
   "id": "4c9536c9-0e28-48f3-aa1d-3821ac224776",
   "metadata": {},
   "outputs": [
    {
     "data": {
      "text/plain": [
       "china      True\n",
       "japan     False\n",
       "india      True\n",
       "uk        False\n",
       "usa       False\n",
       "france     True\n",
       "dtype: bool"
      ]
     },
     "execution_count": 46,
     "metadata": {},
     "output_type": "execute_result"
    }
   ],
   "source": [
    "pd.isnull(obj2)"
   ]
  },
  {
   "cell_type": "code",
   "execution_count": 47,
   "id": "a490bd5f-d3ac-4866-96a0-04e48418bd47",
   "metadata": {},
   "outputs": [
    {
     "data": {
      "text/plain": [
       "china     False\n",
       "japan      True\n",
       "india     False\n",
       "uk         True\n",
       "usa        True\n",
       "france    False\n",
       "dtype: bool"
      ]
     },
     "execution_count": 47,
     "metadata": {},
     "output_type": "execute_result"
    }
   ],
   "source": [
    "pd.notnull(obj2)"
   ]
  },
  {
   "cell_type": "code",
   "execution_count": 48,
   "id": "9327bf1c-cad0-4fad-a49b-f9ca39ef57d0",
   "metadata": {},
   "outputs": [
    {
     "data": {
      "text/plain": [
       "ussr     87000000\n",
       "nepal     4300000\n",
       "uk        3000000\n",
       "usa      21000000\n",
       "japan      400000\n",
       "dtype: int64"
      ]
     },
     "execution_count": 48,
     "metadata": {},
     "output_type": "execute_result"
    }
   ],
   "source": [
    "ww2_series"
   ]
  },
  {
   "cell_type": "code",
   "execution_count": 49,
   "id": "64f8dd70-9c53-4f93-92db-7fa0279343e0",
   "metadata": {},
   "outputs": [
    {
     "data": {
      "text/plain": [
       "china            NaN\n",
       "japan       400000.0\n",
       "india            NaN\n",
       "uk         3000000.0\n",
       "usa       21000000.0\n",
       "france           NaN\n",
       "dtype: float64"
      ]
     },
     "execution_count": 49,
     "metadata": {},
     "output_type": "execute_result"
    }
   ],
   "source": [
    "obj2"
   ]
  },
  {
   "cell_type": "code",
   "execution_count": 50,
   "id": "3fb7cb93-a0f3-41fb-ad3a-6127263cb259",
   "metadata": {},
   "outputs": [
    {
     "data": {
      "text/plain": [
       "china            NaN\n",
       "france           NaN\n",
       "india            NaN\n",
       "japan       800000.0\n",
       "nepal            NaN\n",
       "uk         6000000.0\n",
       "usa       42000000.0\n",
       "ussr             NaN\n",
       "dtype: float64"
      ]
     },
     "execution_count": 50,
     "metadata": {},
     "output_type": "execute_result"
    }
   ],
   "source": [
    "ww2_series + obj2"
   ]
  },
  {
   "cell_type": "code",
   "execution_count": 51,
   "id": "25bcb550-7e68-4715-9dee-bf60f6893ed0",
   "metadata": {},
   "outputs": [
    {
     "data": {
      "text/plain": [
       "china            NaN\n",
       "japan       400000.0\n",
       "india            NaN\n",
       "uk         3000000.0\n",
       "usa       21000000.0\n",
       "france           NaN\n",
       "Name: world war 2 casulties, dtype: float64"
      ]
     },
     "execution_count": 51,
     "metadata": {},
     "output_type": "execute_result"
    }
   ],
   "source": [
    "obj2.name = \"world war 2 casulties\"\n",
    "obj2"
   ]
  },
  {
   "cell_type": "code",
   "execution_count": 52,
   "id": "074b67b1-66b2-470f-8099-cbc22c4bab4d",
   "metadata": {},
   "outputs": [],
   "source": [
    "obj2.index.name = \"countries\""
   ]
  },
  {
   "cell_type": "code",
   "execution_count": 53,
   "id": "82970c3a-697c-445a-9a97-ddf097072879",
   "metadata": {},
   "outputs": [
    {
     "data": {
      "text/plain": [
       "countries\n",
       "china            NaN\n",
       "japan       400000.0\n",
       "india            NaN\n",
       "uk         3000000.0\n",
       "usa       21000000.0\n",
       "france           NaN\n",
       "Name: world war 2 casulties, dtype: float64"
      ]
     },
     "execution_count": 53,
     "metadata": {},
     "output_type": "execute_result"
    }
   ],
   "source": [
    "obj2"
   ]
  },
  {
   "cell_type": "markdown",
   "id": "3a9ee5e1-7885-4a4d-9cff-cad855bc1220",
   "metadata": {},
   "source": [
    "Data Frame"
   ]
  },
  {
   "cell_type": "code",
   "execution_count": 73,
   "id": "502cde19-69a0-4697-9b60-75e796de310e",
   "metadata": {},
   "outputs": [],
   "source": [
    "import numpy as np\n",
    "import pandas as pd\n",
    "from pandas import Series, DataFrame"
   ]
  },
  {
   "cell_type": "code",
   "execution_count": 76,
   "id": "7d962016-ea31-4d2d-a746-3502eff4db26",
   "metadata": {},
   "outputs": [
    {
     "data": {
      "text/plain": [
       "True"
      ]
     },
     "execution_count": 76,
     "metadata": {},
     "output_type": "execute_result"
    }
   ],
   "source": [
    "import webbrowser\n",
    "website = 'http://en.wikipedia.org/wiki/NFL_win-loss_records'\n",
    "webbrowser.open(website)"
   ]
  },
  {
   "cell_type": "code",
   "execution_count": 79,
   "id": "6317c821-b338-41ef-981d-51a9232081c8",
   "metadata": {},
   "outputs": [
    {
     "data": {
      "text/html": [
       "<div>\n",
       "<style scoped>\n",
       "    .dataframe tbody tr th:only-of-type {\n",
       "        vertical-align: middle;\n",
       "    }\n",
       "\n",
       "    .dataframe tbody tr th {\n",
       "        vertical-align: top;\n",
       "    }\n",
       "\n",
       "    .dataframe thead th {\n",
       "        text-align: right;\n",
       "    }\n",
       "</style>\n",
       "<table border=\"1\" class=\"dataframe\">\n",
       "  <thead>\n",
       "    <tr style=\"text-align: right;\">\n",
       "      <th></th>\n",
       "      <th>Rank</th>\n",
       "      <th>Team</th>\n",
       "      <th>GP</th>\n",
       "      <th>Won</th>\n",
       "      <th>Lost</th>\n",
       "      <th>Tied[c]</th>\n",
       "      <th>Pct.</th>\n",
       "      <th>First NFL season</th>\n",
       "      <th>Division</th>\n",
       "    </tr>\n",
       "  </thead>\n",
       "  <tbody>\n",
       "    <tr>\n",
       "      <th>0</th>\n",
       "      <td>1</td>\n",
       "      <td>Baltimore Ravens</td>\n",
       "      <td>468</td>\n",
       "      <td>268</td>\n",
       "      <td>199</td>\n",
       "      <td>1</td>\n",
       "      <td>0.574</td>\n",
       "      <td>1996</td>\n",
       "      <td>AFC North</td>\n",
       "    </tr>\n",
       "    <tr>\n",
       "      <th>1</th>\n",
       "      <td>2</td>\n",
       "      <td>Dallas Cowboys</td>\n",
       "      <td>998</td>\n",
       "      <td>569</td>\n",
       "      <td>423</td>\n",
       "      <td>6 (0)</td>\n",
       "      <td>0.573</td>\n",
       "      <td>1960</td>\n",
       "      <td>NFC East</td>\n",
       "    </tr>\n",
       "    <tr>\n",
       "      <th>2</th>\n",
       "      <td>3</td>\n",
       "      <td>Green Bay Packers</td>\n",
       "      <td>1,452</td>\n",
       "      <td>811</td>\n",
       "      <td>605</td>\n",
       "      <td>38 (8)</td>\n",
       "      <td>0.572</td>\n",
       "      <td>1921</td>\n",
       "      <td>NFC North</td>\n",
       "    </tr>\n",
       "    <tr>\n",
       "      <th>3</th>\n",
       "      <td>4</td>\n",
       "      <td>Chicago Bears</td>\n",
       "      <td>1,488</td>\n",
       "      <td>798</td>\n",
       "      <td>646</td>\n",
       "      <td>42 (1)</td>\n",
       "      <td>0.553</td>\n",
       "      <td>1920</td>\n",
       "      <td>NFC North</td>\n",
       "    </tr>\n",
       "  </tbody>\n",
       "</table>\n",
       "</div>"
      ],
      "text/plain": [
       "   Rank               Team     GP  Won  Lost Tied[c]   Pct.  First NFL season  \\\n",
       "0     1   Baltimore Ravens    468  268   199       1  0.574              1996   \n",
       "1     2     Dallas Cowboys    998  569   423   6 (0)  0.573              1960   \n",
       "2     3  Green Bay Packers  1,452  811   605  38 (8)  0.572              1921   \n",
       "3     4      Chicago Bears  1,488  798   646  42 (1)  0.553              1920   \n",
       "\n",
       "    Division  \n",
       "0  AFC North  \n",
       "1   NFC East  \n",
       "2  NFC North  \n",
       "3  NFC North  "
      ]
     },
     "execution_count": 79,
     "metadata": {},
     "output_type": "execute_result"
    }
   ],
   "source": [
    "nfl_frame = pd.read_clipboard()\n",
    "nfl_frame"
   ]
  },
  {
   "cell_type": "code",
   "execution_count": 80,
   "id": "1080fa51-c104-4af9-b8d5-ac7fcf8d71d6",
   "metadata": {},
   "outputs": [
    {
     "data": {
      "text/plain": [
       "Index(['Rank', 'Team', 'GP', 'Won', 'Lost', 'Tied[c]', 'Pct.',\n",
       "       'First NFL season', 'Division'],\n",
       "      dtype='object')"
      ]
     },
     "execution_count": 80,
     "metadata": {},
     "output_type": "execute_result"
    }
   ],
   "source": [
    "nfl_frame.columns"
   ]
  },
  {
   "cell_type": "code",
   "execution_count": 83,
   "id": "353a7fde-4725-4dbf-a4d7-bb20d61d8343",
   "metadata": {},
   "outputs": [
    {
     "data": {
      "text/plain": [
       "0    1996\n",
       "1    1960\n",
       "2    1921\n",
       "3    1920\n",
       "Name: First NFL season, dtype: int64"
      ]
     },
     "execution_count": 83,
     "metadata": {},
     "output_type": "execute_result"
    }
   ],
   "source": [
    "nfl_frame['First NFL season'] #displaying single column"
   ]
  },
  {
   "cell_type": "code",
   "execution_count": 86,
   "id": "08bfa70c-3b11-4bb5-9604-dbcbaed840b1",
   "metadata": {},
   "outputs": [
    {
     "data": {
      "text/html": [
       "<div>\n",
       "<style scoped>\n",
       "    .dataframe tbody tr th:only-of-type {\n",
       "        vertical-align: middle;\n",
       "    }\n",
       "\n",
       "    .dataframe tbody tr th {\n",
       "        vertical-align: top;\n",
       "    }\n",
       "\n",
       "    .dataframe thead th {\n",
       "        text-align: right;\n",
       "    }\n",
       "</style>\n",
       "<table border=\"1\" class=\"dataframe\">\n",
       "  <thead>\n",
       "    <tr style=\"text-align: right;\">\n",
       "      <th></th>\n",
       "      <th>Team</th>\n",
       "      <th>GP</th>\n",
       "      <th>Won</th>\n",
       "    </tr>\n",
       "  </thead>\n",
       "  <tbody>\n",
       "    <tr>\n",
       "      <th>0</th>\n",
       "      <td>Baltimore Ravens</td>\n",
       "      <td>468</td>\n",
       "      <td>268</td>\n",
       "    </tr>\n",
       "    <tr>\n",
       "      <th>1</th>\n",
       "      <td>Dallas Cowboys</td>\n",
       "      <td>998</td>\n",
       "      <td>569</td>\n",
       "    </tr>\n",
       "    <tr>\n",
       "      <th>2</th>\n",
       "      <td>Green Bay Packers</td>\n",
       "      <td>1,452</td>\n",
       "      <td>811</td>\n",
       "    </tr>\n",
       "    <tr>\n",
       "      <th>3</th>\n",
       "      <td>Chicago Bears</td>\n",
       "      <td>1,488</td>\n",
       "      <td>798</td>\n",
       "    </tr>\n",
       "  </tbody>\n",
       "</table>\n",
       "</div>"
      ],
      "text/plain": [
       "                Team     GP  Won\n",
       "0   Baltimore Ravens    468  268\n",
       "1     Dallas Cowboys    998  569\n",
       "2  Green Bay Packers  1,452  811\n",
       "3      Chicago Bears  1,488  798"
      ]
     },
     "execution_count": 86,
     "metadata": {},
     "output_type": "execute_result"
    }
   ],
   "source": [
    "DataFrame(nfl_frame,columns=['Team','GP','Won']) #displaying multiple column"
   ]
  },
  {
   "cell_type": "code",
   "execution_count": 88,
   "id": "6c78c317-5a99-41e7-94a3-f9e7dcd8ee4b",
   "metadata": {},
   "outputs": [
    {
     "data": {
      "text/html": [
       "<div>\n",
       "<style scoped>\n",
       "    .dataframe tbody tr th:only-of-type {\n",
       "        vertical-align: middle;\n",
       "    }\n",
       "\n",
       "    .dataframe tbody tr th {\n",
       "        vertical-align: top;\n",
       "    }\n",
       "\n",
       "    .dataframe thead th {\n",
       "        text-align: right;\n",
       "    }\n",
       "</style>\n",
       "<table border=\"1\" class=\"dataframe\">\n",
       "  <thead>\n",
       "    <tr style=\"text-align: right;\">\n",
       "      <th></th>\n",
       "      <th>Team</th>\n",
       "      <th>GP</th>\n",
       "      <th>Won</th>\n",
       "      <th>stadium</th>\n",
       "    </tr>\n",
       "  </thead>\n",
       "  <tbody>\n",
       "    <tr>\n",
       "      <th>0</th>\n",
       "      <td>Baltimore Ravens</td>\n",
       "      <td>468</td>\n",
       "      <td>268</td>\n",
       "      <td>NaN</td>\n",
       "    </tr>\n",
       "    <tr>\n",
       "      <th>1</th>\n",
       "      <td>Dallas Cowboys</td>\n",
       "      <td>998</td>\n",
       "      <td>569</td>\n",
       "      <td>NaN</td>\n",
       "    </tr>\n",
       "    <tr>\n",
       "      <th>2</th>\n",
       "      <td>Green Bay Packers</td>\n",
       "      <td>1,452</td>\n",
       "      <td>811</td>\n",
       "      <td>NaN</td>\n",
       "    </tr>\n",
       "    <tr>\n",
       "      <th>3</th>\n",
       "      <td>Chicago Bears</td>\n",
       "      <td>1,488</td>\n",
       "      <td>798</td>\n",
       "      <td>NaN</td>\n",
       "    </tr>\n",
       "  </tbody>\n",
       "</table>\n",
       "</div>"
      ],
      "text/plain": [
       "                Team     GP  Won  stadium\n",
       "0   Baltimore Ravens    468  268      NaN\n",
       "1     Dallas Cowboys    998  569      NaN\n",
       "2  Green Bay Packers  1,452  811      NaN\n",
       "3      Chicago Bears  1,488  798      NaN"
      ]
     },
     "execution_count": 88,
     "metadata": {},
     "output_type": "execute_result"
    }
   ],
   "source": [
    "DataFrame(nfl_frame,columns=['Team','GP','Won','stadium']) #Adding one more column"
   ]
  },
  {
   "cell_type": "code",
   "execution_count": 89,
   "id": "3986a358-462b-4c87-a8a0-48c90e8a8eb3",
   "metadata": {},
   "outputs": [
    {
     "data": {
      "text/html": [
       "<div>\n",
       "<style scoped>\n",
       "    .dataframe tbody tr th:only-of-type {\n",
       "        vertical-align: middle;\n",
       "    }\n",
       "\n",
       "    .dataframe tbody tr th {\n",
       "        vertical-align: top;\n",
       "    }\n",
       "\n",
       "    .dataframe thead th {\n",
       "        text-align: right;\n",
       "    }\n",
       "</style>\n",
       "<table border=\"1\" class=\"dataframe\">\n",
       "  <thead>\n",
       "    <tr style=\"text-align: right;\">\n",
       "      <th></th>\n",
       "      <th>Rank</th>\n",
       "      <th>Team</th>\n",
       "      <th>GP</th>\n",
       "      <th>Won</th>\n",
       "      <th>Lost</th>\n",
       "      <th>Tied[c]</th>\n",
       "      <th>Pct.</th>\n",
       "      <th>First NFL season</th>\n",
       "      <th>Division</th>\n",
       "    </tr>\n",
       "  </thead>\n",
       "  <tbody>\n",
       "    <tr>\n",
       "      <th>0</th>\n",
       "      <td>1</td>\n",
       "      <td>Baltimore Ravens</td>\n",
       "      <td>468</td>\n",
       "      <td>268</td>\n",
       "      <td>199</td>\n",
       "      <td>1</td>\n",
       "      <td>0.574</td>\n",
       "      <td>1996</td>\n",
       "      <td>AFC North</td>\n",
       "    </tr>\n",
       "    <tr>\n",
       "      <th>1</th>\n",
       "      <td>2</td>\n",
       "      <td>Dallas Cowboys</td>\n",
       "      <td>998</td>\n",
       "      <td>569</td>\n",
       "      <td>423</td>\n",
       "      <td>6 (0)</td>\n",
       "      <td>0.573</td>\n",
       "      <td>1960</td>\n",
       "      <td>NFC East</td>\n",
       "    </tr>\n",
       "    <tr>\n",
       "      <th>2</th>\n",
       "      <td>3</td>\n",
       "      <td>Green Bay Packers</td>\n",
       "      <td>1,452</td>\n",
       "      <td>811</td>\n",
       "      <td>605</td>\n",
       "      <td>38 (8)</td>\n",
       "      <td>0.572</td>\n",
       "      <td>1921</td>\n",
       "      <td>NFC North</td>\n",
       "    </tr>\n",
       "    <tr>\n",
       "      <th>3</th>\n",
       "      <td>4</td>\n",
       "      <td>Chicago Bears</td>\n",
       "      <td>1,488</td>\n",
       "      <td>798</td>\n",
       "      <td>646</td>\n",
       "      <td>42 (1)</td>\n",
       "      <td>0.553</td>\n",
       "      <td>1920</td>\n",
       "      <td>NFC North</td>\n",
       "    </tr>\n",
       "  </tbody>\n",
       "</table>\n",
       "</div>"
      ],
      "text/plain": [
       "   Rank               Team     GP  Won  Lost Tied[c]   Pct.  First NFL season  \\\n",
       "0     1   Baltimore Ravens    468  268   199       1  0.574              1996   \n",
       "1     2     Dallas Cowboys    998  569   423   6 (0)  0.573              1960   \n",
       "2     3  Green Bay Packers  1,452  811   605  38 (8)  0.572              1921   \n",
       "3     4      Chicago Bears  1,488  798   646  42 (1)  0.553              1920   \n",
       "\n",
       "    Division  \n",
       "0  AFC North  \n",
       "1   NFC East  \n",
       "2  NFC North  \n",
       "3  NFC North  "
      ]
     },
     "execution_count": 89,
     "metadata": {},
     "output_type": "execute_result"
    }
   ],
   "source": [
    "nfl_frame"
   ]
  },
  {
   "cell_type": "code",
   "execution_count": 90,
   "id": "e59d0e6b-444b-4162-87ae-003d9c745643",
   "metadata": {},
   "outputs": [
    {
     "data": {
      "text/html": [
       "<div>\n",
       "<style scoped>\n",
       "    .dataframe tbody tr th:only-of-type {\n",
       "        vertical-align: middle;\n",
       "    }\n",
       "\n",
       "    .dataframe tbody tr th {\n",
       "        vertical-align: top;\n",
       "    }\n",
       "\n",
       "    .dataframe thead th {\n",
       "        text-align: right;\n",
       "    }\n",
       "</style>\n",
       "<table border=\"1\" class=\"dataframe\">\n",
       "  <thead>\n",
       "    <tr style=\"text-align: right;\">\n",
       "      <th></th>\n",
       "      <th>Rank</th>\n",
       "      <th>Team</th>\n",
       "      <th>GP</th>\n",
       "      <th>Won</th>\n",
       "      <th>Lost</th>\n",
       "      <th>Tied[c]</th>\n",
       "      <th>Pct.</th>\n",
       "      <th>First NFL season</th>\n",
       "      <th>Division</th>\n",
       "    </tr>\n",
       "  </thead>\n",
       "  <tbody>\n",
       "    <tr>\n",
       "      <th>0</th>\n",
       "      <td>1</td>\n",
       "      <td>Baltimore Ravens</td>\n",
       "      <td>468</td>\n",
       "      <td>268</td>\n",
       "      <td>199</td>\n",
       "      <td>1</td>\n",
       "      <td>0.574</td>\n",
       "      <td>1996</td>\n",
       "      <td>AFC North</td>\n",
       "    </tr>\n",
       "    <tr>\n",
       "      <th>1</th>\n",
       "      <td>2</td>\n",
       "      <td>Dallas Cowboys</td>\n",
       "      <td>998</td>\n",
       "      <td>569</td>\n",
       "      <td>423</td>\n",
       "      <td>6 (0)</td>\n",
       "      <td>0.573</td>\n",
       "      <td>1960</td>\n",
       "      <td>NFC East</td>\n",
       "    </tr>\n",
       "    <tr>\n",
       "      <th>2</th>\n",
       "      <td>3</td>\n",
       "      <td>Green Bay Packers</td>\n",
       "      <td>1,452</td>\n",
       "      <td>811</td>\n",
       "      <td>605</td>\n",
       "      <td>38 (8)</td>\n",
       "      <td>0.572</td>\n",
       "      <td>1921</td>\n",
       "      <td>NFC North</td>\n",
       "    </tr>\n",
       "    <tr>\n",
       "      <th>3</th>\n",
       "      <td>4</td>\n",
       "      <td>Chicago Bears</td>\n",
       "      <td>1,488</td>\n",
       "      <td>798</td>\n",
       "      <td>646</td>\n",
       "      <td>42 (1)</td>\n",
       "      <td>0.553</td>\n",
       "      <td>1920</td>\n",
       "      <td>NFC North</td>\n",
       "    </tr>\n",
       "  </tbody>\n",
       "</table>\n",
       "</div>"
      ],
      "text/plain": [
       "   Rank               Team     GP  Won  Lost Tied[c]   Pct.  First NFL season  \\\n",
       "0     1   Baltimore Ravens    468  268   199       1  0.574              1996   \n",
       "1     2     Dallas Cowboys    998  569   423   6 (0)  0.573              1960   \n",
       "2     3  Green Bay Packers  1,452  811   605  38 (8)  0.572              1921   \n",
       "3     4      Chicago Bears  1,488  798   646  42 (1)  0.553              1920   \n",
       "\n",
       "    Division  \n",
       "0  AFC North  \n",
       "1   NFC East  \n",
       "2  NFC North  \n",
       "3  NFC North  "
      ]
     },
     "execution_count": 90,
     "metadata": {},
     "output_type": "execute_result"
    }
   ],
   "source": [
    "nfl_frame.head()"
   ]
  },
  {
   "cell_type": "code",
   "execution_count": 91,
   "id": "5d166235-e8be-4b62-b8fc-e60513c1d9aa",
   "metadata": {},
   "outputs": [
    {
     "data": {
      "text/html": [
       "<div>\n",
       "<style scoped>\n",
       "    .dataframe tbody tr th:only-of-type {\n",
       "        vertical-align: middle;\n",
       "    }\n",
       "\n",
       "    .dataframe tbody tr th {\n",
       "        vertical-align: top;\n",
       "    }\n",
       "\n",
       "    .dataframe thead th {\n",
       "        text-align: right;\n",
       "    }\n",
       "</style>\n",
       "<table border=\"1\" class=\"dataframe\">\n",
       "  <thead>\n",
       "    <tr style=\"text-align: right;\">\n",
       "      <th></th>\n",
       "      <th>Rank</th>\n",
       "      <th>Team</th>\n",
       "      <th>GP</th>\n",
       "      <th>Won</th>\n",
       "      <th>Lost</th>\n",
       "      <th>Tied[c]</th>\n",
       "      <th>Pct.</th>\n",
       "      <th>First NFL season</th>\n",
       "      <th>Division</th>\n",
       "    </tr>\n",
       "  </thead>\n",
       "  <tbody>\n",
       "    <tr>\n",
       "      <th>0</th>\n",
       "      <td>1</td>\n",
       "      <td>Baltimore Ravens</td>\n",
       "      <td>468</td>\n",
       "      <td>268</td>\n",
       "      <td>199</td>\n",
       "      <td>1</td>\n",
       "      <td>0.574</td>\n",
       "      <td>1996</td>\n",
       "      <td>AFC North</td>\n",
       "    </tr>\n",
       "    <tr>\n",
       "      <th>1</th>\n",
       "      <td>2</td>\n",
       "      <td>Dallas Cowboys</td>\n",
       "      <td>998</td>\n",
       "      <td>569</td>\n",
       "      <td>423</td>\n",
       "      <td>6 (0)</td>\n",
       "      <td>0.573</td>\n",
       "      <td>1960</td>\n",
       "      <td>NFC East</td>\n",
       "    </tr>\n",
       "    <tr>\n",
       "      <th>2</th>\n",
       "      <td>3</td>\n",
       "      <td>Green Bay Packers</td>\n",
       "      <td>1,452</td>\n",
       "      <td>811</td>\n",
       "      <td>605</td>\n",
       "      <td>38 (8)</td>\n",
       "      <td>0.572</td>\n",
       "      <td>1921</td>\n",
       "      <td>NFC North</td>\n",
       "    </tr>\n",
       "  </tbody>\n",
       "</table>\n",
       "</div>"
      ],
      "text/plain": [
       "   Rank               Team     GP  Won  Lost Tied[c]   Pct.  First NFL season  \\\n",
       "0     1   Baltimore Ravens    468  268   199       1  0.574              1996   \n",
       "1     2     Dallas Cowboys    998  569   423   6 (0)  0.573              1960   \n",
       "2     3  Green Bay Packers  1,452  811   605  38 (8)  0.572              1921   \n",
       "\n",
       "    Division  \n",
       "0  AFC North  \n",
       "1   NFC East  \n",
       "2  NFC North  "
      ]
     },
     "execution_count": 91,
     "metadata": {},
     "output_type": "execute_result"
    }
   ],
   "source": [
    "nfl_frame.head(3)"
   ]
  },
  {
   "cell_type": "code",
   "execution_count": 100,
   "id": "bb1d37fc-e727-4e56-9993-b53cda6ded8f",
   "metadata": {},
   "outputs": [
    {
     "data": {
      "text/plain": [
       "Rank                               1\n",
       "Team                Baltimore Ravens\n",
       "GP                               468\n",
       "Won                              268\n",
       "Lost                             199\n",
       "Tied[c]                            1\n",
       "Pct.                           0.574\n",
       "First NFL season                1996\n",
       "Division                   AFC North\n",
       "Name: 0, dtype: object"
      ]
     },
     "execution_count": 100,
     "metadata": {},
     "output_type": "execute_result"
    }
   ],
   "source": [
    "nfl_frame.iloc[0] #iloc is a method"
   ]
  },
  {
   "cell_type": "code",
   "execution_count": 103,
   "id": "b4bcd57c-426f-45af-9b34-bc6d501a0d9b",
   "metadata": {},
   "outputs": [],
   "source": [
    "nfl_frame['Stadium'] = \"Levi's stadium\""
   ]
  },
  {
   "cell_type": "code",
   "execution_count": 102,
   "id": "00d90e81-8028-4d61-a891-fa36310c5e4f",
   "metadata": {},
   "outputs": [
    {
     "data": {
      "text/html": [
       "<div>\n",
       "<style scoped>\n",
       "    .dataframe tbody tr th:only-of-type {\n",
       "        vertical-align: middle;\n",
       "    }\n",
       "\n",
       "    .dataframe tbody tr th {\n",
       "        vertical-align: top;\n",
       "    }\n",
       "\n",
       "    .dataframe thead th {\n",
       "        text-align: right;\n",
       "    }\n",
       "</style>\n",
       "<table border=\"1\" class=\"dataframe\">\n",
       "  <thead>\n",
       "    <tr style=\"text-align: right;\">\n",
       "      <th></th>\n",
       "      <th>Rank</th>\n",
       "      <th>Team</th>\n",
       "      <th>GP</th>\n",
       "      <th>Won</th>\n",
       "      <th>Lost</th>\n",
       "      <th>Tied[c]</th>\n",
       "      <th>Pct.</th>\n",
       "      <th>First NFL season</th>\n",
       "      <th>Division</th>\n",
       "      <th>Stadium</th>\n",
       "    </tr>\n",
       "  </thead>\n",
       "  <tbody>\n",
       "    <tr>\n",
       "      <th>0</th>\n",
       "      <td>1</td>\n",
       "      <td>Baltimore Ravens</td>\n",
       "      <td>468</td>\n",
       "      <td>268</td>\n",
       "      <td>199</td>\n",
       "      <td>1</td>\n",
       "      <td>0.574</td>\n",
       "      <td>1996</td>\n",
       "      <td>AFC North</td>\n",
       "      <td>Levi's stadium</td>\n",
       "    </tr>\n",
       "    <tr>\n",
       "      <th>1</th>\n",
       "      <td>2</td>\n",
       "      <td>Dallas Cowboys</td>\n",
       "      <td>998</td>\n",
       "      <td>569</td>\n",
       "      <td>423</td>\n",
       "      <td>6 (0)</td>\n",
       "      <td>0.573</td>\n",
       "      <td>1960</td>\n",
       "      <td>NFC East</td>\n",
       "      <td>Levi's stadium</td>\n",
       "    </tr>\n",
       "    <tr>\n",
       "      <th>2</th>\n",
       "      <td>3</td>\n",
       "      <td>Green Bay Packers</td>\n",
       "      <td>1,452</td>\n",
       "      <td>811</td>\n",
       "      <td>605</td>\n",
       "      <td>38 (8)</td>\n",
       "      <td>0.572</td>\n",
       "      <td>1921</td>\n",
       "      <td>NFC North</td>\n",
       "      <td>Levi's stadium</td>\n",
       "    </tr>\n",
       "    <tr>\n",
       "      <th>3</th>\n",
       "      <td>4</td>\n",
       "      <td>Chicago Bears</td>\n",
       "      <td>1,488</td>\n",
       "      <td>798</td>\n",
       "      <td>646</td>\n",
       "      <td>42 (1)</td>\n",
       "      <td>0.553</td>\n",
       "      <td>1920</td>\n",
       "      <td>NFC North</td>\n",
       "      <td>Levi's stadium</td>\n",
       "    </tr>\n",
       "  </tbody>\n",
       "</table>\n",
       "</div>"
      ],
      "text/plain": [
       "   Rank               Team     GP  Won  Lost Tied[c]   Pct.  First NFL season  \\\n",
       "0     1   Baltimore Ravens    468  268   199       1  0.574              1996   \n",
       "1     2     Dallas Cowboys    998  569   423   6 (0)  0.573              1960   \n",
       "2     3  Green Bay Packers  1,452  811   605  38 (8)  0.572              1921   \n",
       "3     4      Chicago Bears  1,488  798   646  42 (1)  0.553              1920   \n",
       "\n",
       "    Division         Stadium  \n",
       "0  AFC North  Levi's stadium  \n",
       "1   NFC East  Levi's stadium  \n",
       "2  NFC North  Levi's stadium  \n",
       "3  NFC North  Levi's stadium  "
      ]
     },
     "execution_count": 102,
     "metadata": {},
     "output_type": "execute_result"
    }
   ],
   "source": [
    "nfl_frame"
   ]
  },
  {
   "cell_type": "code",
   "execution_count": 105,
   "id": "1394ca8f-6a3b-4e86-bd17-3c32ceaf984b",
   "metadata": {},
   "outputs": [],
   "source": [
    "nfl_frame['stadium']=np.arange(4)"
   ]
  },
  {
   "cell_type": "code",
   "execution_count": 106,
   "id": "c47b727b-89e1-49d3-8b78-c3cb83de6f39",
   "metadata": {},
   "outputs": [
    {
     "data": {
      "text/html": [
       "<div>\n",
       "<style scoped>\n",
       "    .dataframe tbody tr th:only-of-type {\n",
       "        vertical-align: middle;\n",
       "    }\n",
       "\n",
       "    .dataframe tbody tr th {\n",
       "        vertical-align: top;\n",
       "    }\n",
       "\n",
       "    .dataframe thead th {\n",
       "        text-align: right;\n",
       "    }\n",
       "</style>\n",
       "<table border=\"1\" class=\"dataframe\">\n",
       "  <thead>\n",
       "    <tr style=\"text-align: right;\">\n",
       "      <th></th>\n",
       "      <th>Rank</th>\n",
       "      <th>Team</th>\n",
       "      <th>GP</th>\n",
       "      <th>Won</th>\n",
       "      <th>Lost</th>\n",
       "      <th>Tied[c]</th>\n",
       "      <th>Pct.</th>\n",
       "      <th>First NFL season</th>\n",
       "      <th>Division</th>\n",
       "      <th>Stadium</th>\n",
       "      <th>stadium</th>\n",
       "    </tr>\n",
       "  </thead>\n",
       "  <tbody>\n",
       "    <tr>\n",
       "      <th>0</th>\n",
       "      <td>1</td>\n",
       "      <td>Baltimore Ravens</td>\n",
       "      <td>468</td>\n",
       "      <td>268</td>\n",
       "      <td>199</td>\n",
       "      <td>1</td>\n",
       "      <td>0.574</td>\n",
       "      <td>1996</td>\n",
       "      <td>AFC North</td>\n",
       "      <td>Levi's stadium</td>\n",
       "      <td>0</td>\n",
       "    </tr>\n",
       "    <tr>\n",
       "      <th>1</th>\n",
       "      <td>2</td>\n",
       "      <td>Dallas Cowboys</td>\n",
       "      <td>998</td>\n",
       "      <td>569</td>\n",
       "      <td>423</td>\n",
       "      <td>6 (0)</td>\n",
       "      <td>0.573</td>\n",
       "      <td>1960</td>\n",
       "      <td>NFC East</td>\n",
       "      <td>Levi's stadium</td>\n",
       "      <td>1</td>\n",
       "    </tr>\n",
       "    <tr>\n",
       "      <th>2</th>\n",
       "      <td>3</td>\n",
       "      <td>Green Bay Packers</td>\n",
       "      <td>1,452</td>\n",
       "      <td>811</td>\n",
       "      <td>605</td>\n",
       "      <td>38 (8)</td>\n",
       "      <td>0.572</td>\n",
       "      <td>1921</td>\n",
       "      <td>NFC North</td>\n",
       "      <td>Levi's stadium</td>\n",
       "      <td>2</td>\n",
       "    </tr>\n",
       "    <tr>\n",
       "      <th>3</th>\n",
       "      <td>4</td>\n",
       "      <td>Chicago Bears</td>\n",
       "      <td>1,488</td>\n",
       "      <td>798</td>\n",
       "      <td>646</td>\n",
       "      <td>42 (1)</td>\n",
       "      <td>0.553</td>\n",
       "      <td>1920</td>\n",
       "      <td>NFC North</td>\n",
       "      <td>Levi's stadium</td>\n",
       "      <td>3</td>\n",
       "    </tr>\n",
       "  </tbody>\n",
       "</table>\n",
       "</div>"
      ],
      "text/plain": [
       "   Rank               Team     GP  Won  Lost Tied[c]   Pct.  First NFL season  \\\n",
       "0     1   Baltimore Ravens    468  268   199       1  0.574              1996   \n",
       "1     2     Dallas Cowboys    998  569   423   6 (0)  0.573              1960   \n",
       "2     3  Green Bay Packers  1,452  811   605  38 (8)  0.572              1921   \n",
       "3     4      Chicago Bears  1,488  798   646  42 (1)  0.553              1920   \n",
       "\n",
       "    Division         Stadium  stadium  \n",
       "0  AFC North  Levi's stadium        0  \n",
       "1   NFC East  Levi's stadium        1  \n",
       "2  NFC North  Levi's stadium        2  \n",
       "3  NFC North  Levi's stadium        3  "
      ]
     },
     "execution_count": 106,
     "metadata": {},
     "output_type": "execute_result"
    }
   ],
   "source": [
    "nfl_frame"
   ]
  },
  {
   "cell_type": "code",
   "execution_count": 119,
   "id": "f607adef-4dfb-4d78-8f4f-7575ccc4a0de",
   "metadata": {},
   "outputs": [],
   "source": [
    "stadiums = Series([\"a\",\"b\"],index=[3,0])"
   ]
  },
  {
   "cell_type": "code",
   "execution_count": 120,
   "id": "26604574-ef6d-448a-9034-a36cc9c6de2a",
   "metadata": {},
   "outputs": [
    {
     "data": {
      "text/plain": [
       "3    a\n",
       "0    b\n",
       "dtype: object"
      ]
     },
     "execution_count": 120,
     "metadata": {},
     "output_type": "execute_result"
    }
   ],
   "source": [
    "stadiums"
   ]
  },
  {
   "cell_type": "code",
   "execution_count": 121,
   "id": "3b7da58c-7244-4625-ad42-5bdb8def9f22",
   "metadata": {},
   "outputs": [],
   "source": [
    "nfl_frame['stadium'] = stadiums"
   ]
  },
  {
   "cell_type": "code",
   "execution_count": 122,
   "id": "f5732af4-0d73-4ef5-8197-6a9ee7cea89b",
   "metadata": {},
   "outputs": [
    {
     "data": {
      "text/html": [
       "<div>\n",
       "<style scoped>\n",
       "    .dataframe tbody tr th:only-of-type {\n",
       "        vertical-align: middle;\n",
       "    }\n",
       "\n",
       "    .dataframe tbody tr th {\n",
       "        vertical-align: top;\n",
       "    }\n",
       "\n",
       "    .dataframe thead th {\n",
       "        text-align: right;\n",
       "    }\n",
       "</style>\n",
       "<table border=\"1\" class=\"dataframe\">\n",
       "  <thead>\n",
       "    <tr style=\"text-align: right;\">\n",
       "      <th></th>\n",
       "      <th>Rank</th>\n",
       "      <th>Team</th>\n",
       "      <th>GP</th>\n",
       "      <th>Won</th>\n",
       "      <th>Lost</th>\n",
       "      <th>Tied[c]</th>\n",
       "      <th>Pct.</th>\n",
       "      <th>First NFL season</th>\n",
       "      <th>Division</th>\n",
       "      <th>Stadium</th>\n",
       "      <th>stadium</th>\n",
       "    </tr>\n",
       "  </thead>\n",
       "  <tbody>\n",
       "    <tr>\n",
       "      <th>0</th>\n",
       "      <td>1</td>\n",
       "      <td>Baltimore Ravens</td>\n",
       "      <td>468</td>\n",
       "      <td>268</td>\n",
       "      <td>199</td>\n",
       "      <td>1</td>\n",
       "      <td>0.574</td>\n",
       "      <td>1996</td>\n",
       "      <td>AFC North</td>\n",
       "      <td>Levi's stadium</td>\n",
       "      <td>b</td>\n",
       "    </tr>\n",
       "    <tr>\n",
       "      <th>1</th>\n",
       "      <td>2</td>\n",
       "      <td>Dallas Cowboys</td>\n",
       "      <td>998</td>\n",
       "      <td>569</td>\n",
       "      <td>423</td>\n",
       "      <td>6 (0)</td>\n",
       "      <td>0.573</td>\n",
       "      <td>1960</td>\n",
       "      <td>NFC East</td>\n",
       "      <td>Levi's stadium</td>\n",
       "      <td>NaN</td>\n",
       "    </tr>\n",
       "    <tr>\n",
       "      <th>2</th>\n",
       "      <td>3</td>\n",
       "      <td>Green Bay Packers</td>\n",
       "      <td>1,452</td>\n",
       "      <td>811</td>\n",
       "      <td>605</td>\n",
       "      <td>38 (8)</td>\n",
       "      <td>0.572</td>\n",
       "      <td>1921</td>\n",
       "      <td>NFC North</td>\n",
       "      <td>Levi's stadium</td>\n",
       "      <td>NaN</td>\n",
       "    </tr>\n",
       "    <tr>\n",
       "      <th>3</th>\n",
       "      <td>4</td>\n",
       "      <td>Chicago Bears</td>\n",
       "      <td>1,488</td>\n",
       "      <td>798</td>\n",
       "      <td>646</td>\n",
       "      <td>42 (1)</td>\n",
       "      <td>0.553</td>\n",
       "      <td>1920</td>\n",
       "      <td>NFC North</td>\n",
       "      <td>Levi's stadium</td>\n",
       "      <td>a</td>\n",
       "    </tr>\n",
       "  </tbody>\n",
       "</table>\n",
       "</div>"
      ],
      "text/plain": [
       "   Rank               Team     GP  Won  Lost Tied[c]   Pct.  First NFL season  \\\n",
       "0     1   Baltimore Ravens    468  268   199       1  0.574              1996   \n",
       "1     2     Dallas Cowboys    998  569   423   6 (0)  0.573              1960   \n",
       "2     3  Green Bay Packers  1,452  811   605  38 (8)  0.572              1921   \n",
       "3     4      Chicago Bears  1,488  798   646  42 (1)  0.553              1920   \n",
       "\n",
       "    Division         Stadium stadium  \n",
       "0  AFC North  Levi's stadium       b  \n",
       "1   NFC East  Levi's stadium     NaN  \n",
       "2  NFC North  Levi's stadium     NaN  \n",
       "3  NFC North  Levi's stadium       a  "
      ]
     },
     "execution_count": 122,
     "metadata": {},
     "output_type": "execute_result"
    }
   ],
   "source": [
    "nfl_frame"
   ]
  },
  {
   "cell_type": "code",
   "execution_count": 123,
   "id": "6c5f0514-a773-4d1d-9dd6-7dac4de8b4d8",
   "metadata": {},
   "outputs": [],
   "source": [
    "del nfl_frame['Stadium']"
   ]
  },
  {
   "cell_type": "code",
   "execution_count": 124,
   "id": "fc215e38-5ecd-4d0e-8eff-d694b3f08e94",
   "metadata": {},
   "outputs": [
    {
     "data": {
      "text/html": [
       "<div>\n",
       "<style scoped>\n",
       "    .dataframe tbody tr th:only-of-type {\n",
       "        vertical-align: middle;\n",
       "    }\n",
       "\n",
       "    .dataframe tbody tr th {\n",
       "        vertical-align: top;\n",
       "    }\n",
       "\n",
       "    .dataframe thead th {\n",
       "        text-align: right;\n",
       "    }\n",
       "</style>\n",
       "<table border=\"1\" class=\"dataframe\">\n",
       "  <thead>\n",
       "    <tr style=\"text-align: right;\">\n",
       "      <th></th>\n",
       "      <th>Rank</th>\n",
       "      <th>Team</th>\n",
       "      <th>GP</th>\n",
       "      <th>Won</th>\n",
       "      <th>Lost</th>\n",
       "      <th>Tied[c]</th>\n",
       "      <th>Pct.</th>\n",
       "      <th>First NFL season</th>\n",
       "      <th>Division</th>\n",
       "      <th>stadium</th>\n",
       "    </tr>\n",
       "  </thead>\n",
       "  <tbody>\n",
       "    <tr>\n",
       "      <th>0</th>\n",
       "      <td>1</td>\n",
       "      <td>Baltimore Ravens</td>\n",
       "      <td>468</td>\n",
       "      <td>268</td>\n",
       "      <td>199</td>\n",
       "      <td>1</td>\n",
       "      <td>0.574</td>\n",
       "      <td>1996</td>\n",
       "      <td>AFC North</td>\n",
       "      <td>b</td>\n",
       "    </tr>\n",
       "    <tr>\n",
       "      <th>1</th>\n",
       "      <td>2</td>\n",
       "      <td>Dallas Cowboys</td>\n",
       "      <td>998</td>\n",
       "      <td>569</td>\n",
       "      <td>423</td>\n",
       "      <td>6 (0)</td>\n",
       "      <td>0.573</td>\n",
       "      <td>1960</td>\n",
       "      <td>NFC East</td>\n",
       "      <td>NaN</td>\n",
       "    </tr>\n",
       "    <tr>\n",
       "      <th>2</th>\n",
       "      <td>3</td>\n",
       "      <td>Green Bay Packers</td>\n",
       "      <td>1,452</td>\n",
       "      <td>811</td>\n",
       "      <td>605</td>\n",
       "      <td>38 (8)</td>\n",
       "      <td>0.572</td>\n",
       "      <td>1921</td>\n",
       "      <td>NFC North</td>\n",
       "      <td>NaN</td>\n",
       "    </tr>\n",
       "    <tr>\n",
       "      <th>3</th>\n",
       "      <td>4</td>\n",
       "      <td>Chicago Bears</td>\n",
       "      <td>1,488</td>\n",
       "      <td>798</td>\n",
       "      <td>646</td>\n",
       "      <td>42 (1)</td>\n",
       "      <td>0.553</td>\n",
       "      <td>1920</td>\n",
       "      <td>NFC North</td>\n",
       "      <td>a</td>\n",
       "    </tr>\n",
       "  </tbody>\n",
       "</table>\n",
       "</div>"
      ],
      "text/plain": [
       "   Rank               Team     GP  Won  Lost Tied[c]   Pct.  First NFL season  \\\n",
       "0     1   Baltimore Ravens    468  268   199       1  0.574              1996   \n",
       "1     2     Dallas Cowboys    998  569   423   6 (0)  0.573              1960   \n",
       "2     3  Green Bay Packers  1,452  811   605  38 (8)  0.572              1921   \n",
       "3     4      Chicago Bears  1,488  798   646  42 (1)  0.553              1920   \n",
       "\n",
       "    Division stadium  \n",
       "0  AFC North       b  \n",
       "1   NFC East     NaN  \n",
       "2  NFC North     NaN  \n",
       "3  NFC North       a  "
      ]
     },
     "execution_count": 124,
     "metadata": {},
     "output_type": "execute_result"
    }
   ],
   "source": [
    "nfl_frame"
   ]
  },
  {
   "cell_type": "code",
   "execution_count": 125,
   "id": "ee8b67ca-2468-4397-adc1-263171f97fea",
   "metadata": {},
   "outputs": [],
   "source": [
    "data = {'city':['SF','LA','NYC'],'population':[837000,388000,4500000]}"
   ]
  },
  {
   "cell_type": "code",
   "execution_count": 126,
   "id": "87e7d0b1-39a5-49a0-93c3-deefa52772c9",
   "metadata": {},
   "outputs": [
    {
     "data": {
      "text/plain": [
       "{'city': ['SF', 'LA', 'NYC'], 'population': [837000, 388000, 4500000]}"
      ]
     },
     "execution_count": 126,
     "metadata": {},
     "output_type": "execute_result"
    }
   ],
   "source": [
    "data"
   ]
  },
  {
   "cell_type": "code",
   "execution_count": 127,
   "id": "bb5b44b3-c6a7-4601-82f9-7e504a2562fa",
   "metadata": {},
   "outputs": [],
   "source": [
    "city_frame = DataFrame(data)"
   ]
  },
  {
   "cell_type": "code",
   "execution_count": 128,
   "id": "b3e5f9dd-3e8e-474b-a7ce-62ec41aae151",
   "metadata": {},
   "outputs": [
    {
     "data": {
      "text/html": [
       "<div>\n",
       "<style scoped>\n",
       "    .dataframe tbody tr th:only-of-type {\n",
       "        vertical-align: middle;\n",
       "    }\n",
       "\n",
       "    .dataframe tbody tr th {\n",
       "        vertical-align: top;\n",
       "    }\n",
       "\n",
       "    .dataframe thead th {\n",
       "        text-align: right;\n",
       "    }\n",
       "</style>\n",
       "<table border=\"1\" class=\"dataframe\">\n",
       "  <thead>\n",
       "    <tr style=\"text-align: right;\">\n",
       "      <th></th>\n",
       "      <th>city</th>\n",
       "      <th>population</th>\n",
       "    </tr>\n",
       "  </thead>\n",
       "  <tbody>\n",
       "    <tr>\n",
       "      <th>0</th>\n",
       "      <td>SF</td>\n",
       "      <td>837000</td>\n",
       "    </tr>\n",
       "    <tr>\n",
       "      <th>1</th>\n",
       "      <td>LA</td>\n",
       "      <td>388000</td>\n",
       "    </tr>\n",
       "    <tr>\n",
       "      <th>2</th>\n",
       "      <td>NYC</td>\n",
       "      <td>4500000</td>\n",
       "    </tr>\n",
       "  </tbody>\n",
       "</table>\n",
       "</div>"
      ],
      "text/plain": [
       "  city  population\n",
       "0   SF      837000\n",
       "1   LA      388000\n",
       "2  NYC     4500000"
      ]
     },
     "execution_count": 128,
     "metadata": {},
     "output_type": "execute_result"
    }
   ],
   "source": [
    "city_frame"
   ]
  },
  {
   "cell_type": "code",
   "execution_count": null,
   "id": "9b4ff5e2-88a6-4caa-853b-d600ea09c2d8",
   "metadata": {},
   "outputs": [],
   "source": []
  }
 ],
 "metadata": {
  "kernelspec": {
   "display_name": "Python 3 (ipykernel)",
   "language": "python",
   "name": "python3"
  },
  "language_info": {
   "codemirror_mode": {
    "name": "ipython",
    "version": 3
   },
   "file_extension": ".py",
   "mimetype": "text/x-python",
   "name": "python",
   "nbconvert_exporter": "python",
   "pygments_lexer": "ipython3",
   "version": "3.12.7"
  }
 },
 "nbformat": 4,
 "nbformat_minor": 5
}
